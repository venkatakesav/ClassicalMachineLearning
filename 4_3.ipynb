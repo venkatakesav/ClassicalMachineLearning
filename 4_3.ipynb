{
 "cells": [
  {
   "cell_type": "markdown",
   "metadata": {},
   "source": [
    "# Problem 4.3"
   ]
  },
  {
   "cell_type": "markdown",
   "metadata": {},
   "source": [
    "## Import Libraries"
   ]
  },
  {
   "cell_type": "code",
   "execution_count": 1,
   "metadata": {},
   "outputs": [],
   "source": [
    "import pandas as pd\n",
    "import numpy as np\n",
    "import matplotlib.pyplot as plt\n",
    "\n",
    "# Fix random seed for reproducibility\n",
    "np.random.seed(7)"
   ]
  },
  {
   "cell_type": "markdown",
   "metadata": {},
   "source": [
    "## Observations:\n",
    "### Using 7 Gaussian's as our starting point, rarely ever gives us the perfect gaussians -> Initialization Problem\n",
    "### Using Multiple Gaussians, with different weights gives us a better chance at replicating the previous data"
   ]
  },
  {
   "cell_type": "code",
   "execution_count": 2,
   "metadata": {},
   "outputs": [],
   "source": [
    "# Use the same GMM Class as 2.ipynb\n",
    "# Initialize a GMM Class\n",
    "\n",
    "class GMM:\n",
    "    # Define the init function\n",
    "    def __init__(self, k=2, max_iter=1):\n",
    "        self.k = k\n",
    "        self.max_iter = max_iter\n",
    "\n",
    "    def initalize_params(self, dataset):\n",
    "        # Initialize the weights\n",
    "        self.weights = np.ones(self.k) / self.k # Equal weights for each cluster\n",
    "        # Initialize the means\n",
    "        random_row = np.random.randint(low=0, high=dataset.shape[0], size=self.k)\n",
    "        self.means = dataset[random_row, :]\n",
    "        # For each mean, find the variance while iterating through the entire dataset\n",
    "        self.variances = []\n",
    "        for mean in self.means:\n",
    "            self.variances.append(np.cov(dataset - mean, rowvar=False))\n",
    "        self.variances = np.array(self.variances)\n",
    "        self.responsibilities = []\n",
    "\n",
    "    def multivariate_gaussian(self, dataset, mean, variance, datapoint):\n",
    "        # Find the Determinant of the Variance matrix\n",
    "        det = np.linalg.det(variance)\n",
    "        # Find the inverse of the variance matrix\n",
    "        inv = np.linalg.inv(variance)\n",
    "        # Find the Denominator, first (2*pi)^(k/2) * det^(1/2)\n",
    "        den = (2 * np.pi) ** (dataset.shape[1] / 2) * det ** (1 / 2)\n",
    "        # Find the numerator inside the exp part\n",
    "        exp = np.exp(-0.5*np.dot(np.dot((datapoint - mean), inv), (datapoint - mean).T))\n",
    "        # Convert to scalar\n",
    "        exp = exp[0][0]\n",
    "        # Find the final probability\n",
    "        prob = exp / den\n",
    "        return prob\n",
    "\n",
    "    def get_responsibilities(self, dataset): \n",
    "        # Find the Denominator of the responsibilities\n",
    "        # The Final Responsibilities array must be a (n, k) array\n",
    "        self.responsibilities = []\n",
    "        for mean, variance, weight in zip(self.means, self.variances, self.weights):\n",
    "            temp = []\n",
    "            for datapoint in dataset:\n",
    "                mean_expanded = np.expand_dims(mean, axis=0) # Mean is a 1*7 array\n",
    "                numerator = weight * self.multivariate_gaussian(dataset, mean_expanded, variance, datapoint) # Numerator is a scalar\n",
    "                temp.append(numerator) # Append the numerator to the temp array\n",
    "            self.responsibilities.append(temp)\n",
    "\n",
    "        self.responsibilities = np.array(self.responsibilities)\n",
    "        # Take Transpose of the responsibilities array\n",
    "        self.responsibilities = self.responsibilities.T\n",
    "\n",
    "        # Normalize the responsibilities array\n",
    "        for row in range(len(self.responsibilities)):\n",
    "            self.responsibilities[row] = self.responsibilities[row]/np.sum(self.responsibilities[row])\n",
    "\n",
    "        return\n",
    "\n",
    "    def set_expectation(self, dataset):\n",
    "        # For each row in the dataset, find out responsibility with respect to each cluster\n",
    "        self.get_responsibilities(dataset)\n",
    "        # Check if the sum of the responsibilities is 1\n",
    "\n",
    "    def max_expectation(self, dataset):\n",
    "        # Calculate new weights for each cluster\n",
    "        self.weights = np.mean(self.responsibilities, axis=0)\n",
    "\n",
    "        # Calculate new means for each cluster\n",
    "        self.means = np.dot(self.responsibilities.T, dataset) / np.sum(self.responsibilities, axis=0)[:, np.newaxis]\n",
    "\n",
    "        # Calculate new variances for each cluster\n",
    "        temp_variances = []\n",
    "        for i in range(self.k):\n",
    "            diff = dataset - self.means[i]\n",
    "            weighted_diff = self.responsibilities[:, i][:, np.newaxis] * diff\n",
    "            variance = np.dot(weighted_diff.T, diff) / np.sum(self.responsibilities[:, i])\n",
    "            # Regularize the variance, with a diagonal matrix of 1e-4\n",
    "            variance += 1e-4 * np.eye(dataset.shape[1])\n",
    "            temp_variances.append(variance)\n",
    "\n",
    "        self.variances = temp_variances\n",
    "\n",
    "    def fit(self, dataset):\n",
    "        # Loop through the expectation and maximization steps\n",
    "        for i in range(self.max_iter):\n",
    "            # Expectation step\n",
    "            self.set_expectation(dataset)\n",
    "            # Maximization step\n",
    "            self.max_expectation(dataset)\n",
    "\n",
    "    def return_params(self):\n",
    "        return self.weights, self.means, self.variances\n",
    "    \n",
    "    def predict(self, dataset):\n",
    "        # Find the responsibilities\n",
    "        self.get_responsibilities(dataset)\n",
    "        # Return the maximum responsibility for each datapoint\n",
    "        return np.argmax(self.responsibilities, axis=1)\n",
    "        # Find the maximum responsibility for each datapoint\n",
    "        # return self.responsibilities"
   ]
  },
  {
   "cell_type": "markdown",
   "metadata": {},
   "source": [
    "## Define The Data Set"
   ]
  },
  {
   "cell_type": "code",
   "execution_count": 3,
   "metadata": {},
   "outputs": [
    {
     "name": "stdout",
     "output_type": "stream",
     "text": [
      "(100, 2)\n",
      "[[ 1.28457709e+02  1.25712843e+02]\n",
      " [ 2.54759509e+02  8.55645514e-01]\n",
      " [-1.85074421e-01  2.54263069e+02]\n",
      " [ 1.26931688e+02  2.54851953e+02]\n",
      " [ 2.53614848e+02  1.27817696e+02]\n",
      " [ 5.01806447e-01  2.54650279e+02]\n",
      " [ 1.24672427e+02  1.26221271e+02]\n",
      " [ 1.27412130e+02  1.26554000e+02]\n",
      " [-1.54975021e+00  1.26380603e+02]\n",
      " [ 5.01806447e-01  2.54650279e+02]\n",
      " [ 2.54851738e+02 -5.59848624e-01]\n",
      " [ 2.57338932e+02  1.27737221e+02]\n",
      " [ 1.26990119e+02  1.26312303e+02]\n",
      " [ 2.54965954e+02  1.27271608e+02]\n",
      " [ 9.63360360e-02  1.27521469e+02]\n",
      " [ 1.27065742e+02 -8.44575440e-02]\n",
      " [ 2.54759509e+02  8.55645514e-01]\n",
      " [ 1.27761614e+02  1.26565147e+02]\n",
      " [ 1.15153373e+00  1.26947540e+02]\n",
      " [ 1.27039235e+02  1.27496211e+02]]\n",
      "[0.02       0.01861147 0.03070839 0.08       0.00999758 0.0296458\n",
      " 0.01       0.02999832 0.04883251 0.0296458  0.11277706 0.01999984\n",
      " 0.07015892 0.14000258 0.04446547 0.14       0.01861147 0.01978979\n",
      " 0.07670201 0.05005297]\n"
     ]
    },
    {
     "data": {
      "text/plain": [
       "<matplotlib.collections.PathCollection at 0x12c754310>"
      ]
     },
     "execution_count": 3,
     "metadata": {},
     "output_type": "execute_result"
    },
    {
     "data": {
      "image/png": "[encoded data removed]",
      "text/plain": [
       "<Figure size 640x480 with 1 Axes>"
      ]
     },
     "metadata": {},
     "output_type": "display_data"
    }
   ],
   "source": [
    "# Read the dataset\n",
    "dataset = pd.read_pickle('./SMAI-Dataset-problem-4.3/colors.pkl')\n",
    "# Convert the dataset to a numpy array\n",
    "dataset = np.array(dataset)\n",
    "\n",
    "print(dataset.shape)\n",
    "\n",
    "# Plot the Colours, as a scatter plot, with the colour being the x , y coordinates\n",
    "plt.scatter(dataset[:, 0], dataset[:, 1])\n",
    "\n",
    "# Initialize the GMM Class\n",
    "gmm = GMM(k=20, max_iter=100)\n",
    "# Initialize the parameters\n",
    "gmm.initalize_params(dataset)\n",
    "# Fit the dataset\n",
    "gmm.fit(dataset)\n",
    "# Return the parameters\n",
    "weights, means, variances = gmm.return_params()\n",
    "\n",
    "# Print the Means\n",
    "print(means)\n",
    "print(weights)\n",
    "\n",
    "# Plot the means\n",
    "plt.scatter(means[:, 0], means[:, 1], c='r', s=100)\n"
   ]
  },
  {
   "cell_type": "code",
   "execution_count": 4,
   "metadata": {},
   "outputs": [
    {
     "name": "stdout",
     "output_type": "stream",
     "text": [
      "(989, 2)\n"
     ]
    },
    {
     "data": {
      "text/plain": [
       "<matplotlib.collections.PathCollection at 0x12c73ee50>"
      ]
     },
     "execution_count": 4,
     "metadata": {},
     "output_type": "execute_result"
    },
    {
     "data": {
      "image/png": "[encoded data removed]",
      "text/plain": [
       "<Figure size 640x480 with 1 Axes>"
      ]
     },
     "metadata": {},
     "output_type": "display_data"
    }
   ],
   "source": [
    "import numpy as np\n",
    "\n",
    "class Generator:\n",
    "    def __init__(self, weights, means, variances):\n",
    "        self.weights = weights\n",
    "        self.means = means\n",
    "        self.variances = variances\n",
    "\n",
    "    def generate_sample_dataset(self, n_samples):\n",
    "        self.dataset = []\n",
    "        self.labels = []  # To keep track of the component labels\n",
    "        \n",
    "        for i, (mean, variance, weight) in enumerate(zip(self.means, self.variances, self.weights)):\n",
    "            # Generate the samples\n",
    "            samples = np.random.multivariate_normal(mean, variance, int(n_samples * weight))\n",
    "            # ------------------ CHATGPT ------------------------------------------------------------- #\n",
    "            # Append the samples to the dataset\n",
    "            self.dataset.extend(samples)\n",
    "            # Create labels for the component\n",
    "            component_labels = [i] * len(samples)\n",
    "            self.labels.extend(component_labels)\n",
    "            # ------------------ CHATGPT ------------------------------------------------------------- #\n",
    "        \n",
    "        # Convert the dataset and labels to numpy arrays\n",
    "        self.dataset = np.array(self.dataset)\n",
    "        self.labels = np.array(self.labels)\n",
    "        \n",
    "        return self.dataset, self.labels\n",
    "\n",
    "# Initialize the Generator Class with weights, means, and variances defined earlier\n",
    "generator = Generator(weights, means, variances)\n",
    "# Generate the dataset\n",
    "dataset, labels = generator.generate_sample_dataset(1000)\n",
    "\n",
    "print(dataset.shape)\n",
    "\n",
    "# Plot the dataset\n",
    "plt.scatter(dataset[:, 0], dataset[:, 1], c='g')\n"
   ]
  }
 ],
 "metadata": {
  "kernelspec": {
   "display_name": "Python 3",
   "language": "python",
   "name": "python3"
  },
  "language_info": {
   "codemirror_mode": {
    "name": "ipython",
    "version": 3
   },
   "file_extension": ".py",
   "mimetype": "text/x-python",
   "name": "python",
   "nbconvert_exporter": "python",
   "pygments_lexer": "ipython3",
   "version": "3.11.4"
  },
  "orig_nbformat": 4
 },
 "nbformat": 4,
 "nbformat_minor": 2
}
